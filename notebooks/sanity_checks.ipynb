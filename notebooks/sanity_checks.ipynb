{
 "cells": [
  {
   "cell_type": "code",
   "execution_count": 1,
   "id": "cb637efc",
   "metadata": {},
   "outputs": [],
   "source": [
    "import os\n",
    "os.chdir('..')"
   ]
  },
  {
   "cell_type": "code",
   "execution_count": 2,
   "id": "fcb3c6ba",
   "metadata": {},
   "outputs": [
    {
     "name": "stdout",
     "output_type": "stream",
     "text": [
      "Jupyter environment detected. Enabling Open3D WebVisualizer.\n",
      "[Open3D INFO] WebRTC GUI backend enabled.\n",
      "[Open3D INFO] WebRTCWindowSystem: HTTP handshake server disabled.\n",
      "Loaded 2305 Pedestrian for augmentation\n",
      "Loaded 5970 Car for augmentation\n",
      "Loaded 654 Cyclist for augmentation\n"
     ]
    }
   ],
   "source": [
    "from models.box_encoders_decoders import *\n",
    "from data.kitti_dataset import KittiDataset\n",
    "\n",
    "kitti_data = KittiDataset()"
   ]
  },
  {
   "cell_type": "code",
   "execution_count": 3,
   "id": "eb0660b2",
   "metadata": {},
   "outputs": [
    {
     "name": "stdout",
     "output_type": "stream",
     "text": [
      "Cropping boxes and saving to c:\\Users\\prfej\\OneDrive\\Education\\BHT - Apllied Mathematics\\THESIS\\Adaptive-Point-HGNN\\data\\cropped_boxes\\cropped.json\n"
     ]
    },
    {
     "name": "stderr",
     "output_type": "stream",
     "text": [
      "100%|██████████| 7481/7481 [00:56<00:00, 131.56it/s]\n"
     ]
    }
   ],
   "source": [
    "#test_encoder_decoder('classaware_all_class_box_canonical',kitti_data)\n",
    "kitti_data.save_cropped_boxes()"
   ]
  }
 ],
 "metadata": {
  "kernelspec": {
   "display_name": "gnn.test",
   "language": "python",
   "name": "python3"
  },
  "language_info": {
   "codemirror_mode": {
    "name": "ipython",
    "version": 3
   },
   "file_extension": ".py",
   "mimetype": "text/x-python",
   "name": "python",
   "nbconvert_exporter": "python",
   "pygments_lexer": "ipython3",
   "version": "3.10.16"
  }
 },
 "nbformat": 4,
 "nbformat_minor": 5
}
