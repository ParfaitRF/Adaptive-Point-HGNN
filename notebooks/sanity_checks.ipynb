{
 "cells": [
  {
   "cell_type": "code",
   "execution_count": null,
   "id": "cb637efc",
   "metadata": {},
   "outputs": [],
   "source": [
    "import os\n",
    "os.chdir('..')"
   ]
  },
  {
   "cell_type": "code",
   "execution_count": null,
   "id": "fcb3c6ba",
   "metadata": {},
   "outputs": [],
   "source": [
    "from models.box_encoders_decoders import *\n",
    "from data.kitti_dataset import KittiDataset\n",
    "\n",
    "kitti_data = KittiDataset()"
   ]
  },
  {
   "cell_type": "code",
   "execution_count": null,
   "id": "eb0660b2",
   "metadata": {},
   "outputs": [],
   "source": [
    "# test_encoder_decoder('classaware_all_class_box_canonical',kitti_data)\n",
    "kitti_data.vis_crop_aug_sampler()"
   ]
  }
 ],
 "metadata": {
  "kernelspec": {
   "display_name": "gnn.test",
   "language": "python",
   "name": "python3"
  },
  "language_info": {
   "codemirror_mode": {
    "name": "ipython",
    "version": 3
   },
   "file_extension": ".py",
   "mimetype": "text/x-python",
   "name": "python",
   "nbconvert_exporter": "python",
   "pygments_lexer": "ipython3",
   "version": "3.10.16"
  }
 },
 "nbformat": 4,
 "nbformat_minor": 5
}
