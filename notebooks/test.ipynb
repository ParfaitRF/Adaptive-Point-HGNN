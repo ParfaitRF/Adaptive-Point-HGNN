{
 "cells": [
  {
   "cell_type": "code",
   "execution_count": 4,
   "metadata": {},
   "outputs": [
    {
     "name": "stdout",
     "output_type": "stream",
     "text": [
      "Class: KittiDataset\n",
      "- __init__()\n",
      "- __str__()\n",
      "- _get_file_list()\n",
      "- _verify_file_list()\n",
      "- boxes_3d_to_line_set()\n",
      "- downsample_by_voxel()\n",
      "- get_calib()\n",
      "- get_cam_points()\n",
      "- get_cam_points_in_image()\n",
      "- get_cam_points_in_image_with_rgb()\n",
      "- get_filename()\n",
      "- get_image()\n",
      "- get_label()\n",
      "- get_open3D_box()\n",
      "- get_raw_calib()\n",
      "- get_statics()\n",
      "- get_velo_points()\n",
      "- inspect_points()\n",
      "- rgb_to_cam_points()\n",
      "- sel_points_in_box3d()\n",
      "- sqdistance()\n",
      "- velo_points_to_image()\n",
      "- vis_draw_2d_box()\n",
      "- vis_draw_3d_box()\n",
      "- vis_points()\n"
     ]
    }
   ],
   "source": [
    "import inspect\n",
    "from data.kitti_dataset import KittiDataset\n",
    "\n",
    "def document_class(cls):\n",
    "    print(f\"Class: {cls.__name__}\")\n",
    "    for name, func in inspect.getmembers(cls, inspect.isfunction):\n",
    "        print(f\"- {name}()\")\n",
    "\n",
    "# Example\n",
    "document_class(KittiDataset)\n"
   ]
  }
 ],
 "metadata": {
  "language_info": {
   "name": "python"
  }
 },
 "nbformat": 4,
 "nbformat_minor": 2
}
