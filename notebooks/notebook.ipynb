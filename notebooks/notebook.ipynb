{
 "cells": [
  {
   "cell_type": "markdown",
   "metadata": {},
   "source": [
    "# <center> KITTIDATASET CLASS </center>\n",
    "\n",
    "The following displays how the dataset is initialized and datapoints are visualized"
   ]
  },
  {
   "cell_type": "code",
   "execution_count": null,
   "metadata": {},
   "outputs": [],
   "source": [
    "import os\n",
    "import random\n",
    "from matplotlib import pyplot as plt\n",
    "os.chdir('..')\n",
    "\n",
    "from data.kitti_dataset import KittiDataset"
   ]
  },
  {
   "cell_type": "code",
   "execution_count": null,
   "metadata": {},
   "outputs": [],
   "source": [
    "kitti = KittiDataset() # initialize data object\n",
    "print(kitti)"
   ]
  },
  {
   "cell_type": "code",
   "execution_count": null,
   "metadata": {},
   "outputs": [],
   "source": [
    "# visualisation/ transformations check\n",
    "idx = random.choice(range(kitti.num_files))\n",
    "\n",
    "# while not any([_['name'] =='Truck' for _ in kitti.get_label(idx)]):\n",
    "#   idx = random.choice(range(kitti.num_files))\n",
    "  \n",
    "print(idx)\n",
    "plt.imshow(kitti.get_image(idx))\n",
    "kitti.inspect_points(frame_idx=idx,downsample_voxel_size=0.05)"
   ]
  },
  {
   "cell_type": "code",
   "execution_count": null,
   "metadata": {},
   "outputs": [],
   "source": [
    "# creates and load json file conatining cropped boxes\n",
    "# kitti.save_cropped_boxes()\n",
    "cropped_labels,cropped_cam_points = kitti.load_cropped_boxes()"
   ]
  },
  {
   "cell_type": "code",
   "execution_count": null,
   "metadata": {},
   "outputs": [],
   "source": [
    "# visualizes isolated objects\n",
    "kitti.vis_cropped_boxes(cropped_labels,cropped_cam_points,object_class='Pedestrian')"
   ]
  },
  {
   "cell_type": "code",
   "execution_count": null,
   "metadata": {},
   "outputs": [],
   "source": [
    "kitti.vis_crop_aug_sampler()"
   ]
  },
  {
   "cell_type": "markdown",
   "metadata": {},
   "source": [
    "# <center> GEO-OPT </center>"
   ]
  },
  {
   "cell_type": "code",
   "execution_count": null,
   "metadata": {},
   "outputs": [],
   "source": [
    "from geoopt.manifolds import StereographicExact\n",
    "from geoopt import ManifoldTensor, ManifoldParameter\n",
    "import torch\n",
    "import numpy as np\n",
    "\n",
    "\n",
    "manifold    = StereographicExact(k=-0.01,learnable=True)\n",
    "velo_points = kitti.get_velo_points(idx)\n",
    "velo_points = torch.from_numpy(velo_points.xyz).double()\n",
    "velo_points = ManifoldTensor(velo_points, manifold=manifold)"
   ]
  },
  {
   "cell_type": "code",
   "execution_count": null,
   "metadata": {},
   "outputs": [],
   "source": [
    "print(velo_points)\n",
    "velo_points.proj_()\n",
    "print(velo_points)"
   ]
  },
  {
   "cell_type": "code",
   "execution_count": null,
   "metadata": {},
   "outputs": [],
   "source": [
    "points_eucl = torch.linspace(0,100,100)[::,torch.newaxis]*torch.tensor([1,1,1])\n",
    "diffs_eucl  = points_eucl[1:] - points_eucl[:-1]\n",
    "dist_eucl   = torch.linalg.norm(diffs_eucl, axis=1)\n",
    "print(dist_eucl)\n",
    "\n",
    "points_stereo = ManifoldTensor(points_eucl,manifold=manifold)\n",
    "points_stereo.proj_()\n",
    "# diffs_stereo  = points_stereo[1:] - points_stereo[:-1]\n",
    "# dist_stereo   = torch.linalg.norm(diffs_stereo, axis=1)\n",
    "# print(dist_stereo)"
   ]
  }
 ],
 "metadata": {
  "kernelspec": {
   "display_name": "gnn.test",
   "language": "python",
   "name": "python3"
  },
  "language_info": {
   "codemirror_mode": {
    "name": "ipython",
    "version": 3
   },
   "file_extension": ".py",
   "mimetype": "text/x-python",
   "name": "python",
   "nbconvert_exporter": "python",
   "pygments_lexer": "ipython3",
   "version": "3.10.16"
  }
 },
 "nbformat": 4,
 "nbformat_minor": 2
}
