{
 "cells": [
  {
   "cell_type": "code",
   "execution_count": null,
   "metadata": {},
   "outputs": [],
   "source": [
    "# function list collector\n",
    "\n",
    "# def document_class(cls):\n",
    "#   print(f\"Class: {cls.__name__}\")\n",
    "\n",
    "#   for name, func in inspect.getmembers(cls, inspect.isfunction):\n",
    "#     print(f\"- {name}()\")\n",
    "\n",
    "# # Example\n",
    "# document_class(KittiDataset)\n"
   ]
  },
  {
   "cell_type": "code",
   "execution_count": null,
   "metadata": {},
   "outputs": [],
   "source": [
    "import os\n",
    "import random\n",
    "from matplotlib import pyplot as plt\n",
    "\n",
    "from data.kitti_dataset import KittiDataset\n",
    "#from data.crop_aug import save_cropped_boxes,load_cropped_boxes,vis_cropped_boxes"
   ]
  },
  {
   "cell_type": "markdown",
   "metadata": {},
   "source": [
    "# <center> KITTIDATASET CLASS </center>\n",
    "\n",
    "The following displays how the dataset is initialized and datapoints are visualized"
   ]
  },
  {
   "cell_type": "code",
   "execution_count": 2,
   "metadata": {},
   "outputs": [
    {
     "name": "stdout",
     "output_type": "stream",
     "text": [
      "Loaded 2305 Pedestrian for augmentation\n",
      "Loaded 5970 Car for augmentation\n",
      "Loaded 654 Cyclist for augmentation\n"
     ]
    }
   ],
   "source": [
    "kitti = KittiDataset() # initialize data object"
   ]
  },
  {
   "cell_type": "code",
   "execution_count": 3,
   "metadata": {},
   "outputs": [
    {
     "name": "stdout",
     "output_type": "stream",
     "text": [
      "Dataset Summary:\n",
      "* Paths{\n",
      "\timage_dir=c:\\Users\\prfej\\OneDrive\\Education\\BHT - Apllied Mathematics\\THESIS\\Adaptive-Point-HGNN\\data\\kitti\\training\\image_2\n",
      "\tpoint_dir=c:\\Users\\prfej\\OneDrive\\Education\\BHT - Apllied Mathematics\\THESIS\\Adaptive-Point-HGNN\\data\\kitti\\training\\velodyne\n",
      "\tcalib_dir=c:\\Users\\prfej\\OneDrive\\Education\\BHT - Apllied Mathematics\\THESIS\\Adaptive-Point-HGNN\\data\\kitti\\training\\calib\n",
      "\tlabel_dir=c:\\Users\\prfej\\OneDrive\\Education\\BHT - Apllied Mathematics\\THESIS\\Adaptive-Point-HGNN\\data\\kitti\\training\\label_2\n",
      "}\n",
      "\n",
      "* Total number of sampels: 7481 {\n",
      "\t* Pedestrians {\n",
      "\t\t# objects= 2310;\n",
      "\t\tmh= 1.18 1.76 2.01;\n",
      "\t\tmw= 0.3 0.66 1.06;\n",
      "\t\tml= 0.2 0.92 1.35;\n",
      "\t\tmx= -18.4 -0.25 19.1;\n",
      "\t\tmy= 0.44 1.47 2.4;\n",
      "\t\tmz= 4.98 12.57 33.79;\n",
      "\t\tmA= -0.69 -0.02 0.69;\n",
      "\t\tmY= -3.14 0.03 3.14;\n",
      "\t\timage_height:= 370 376;\n",
      "\t\timage_width: 1224 1242;\n",
      "\t}\n",
      "\t* Miscs {\n",
      "\t\t# objects= 255;\n",
      "\t\tmh= 0.76 1.65 3.91;\n",
      "\t\tmw= 0.4 1.32 2.68;\n",
      "\t\tml= 1.01 2.37 12.6;\n",
      "\t\tmx= -25.5 -3.78 19.81;\n",
      "\t\tmy= 0.75 1.59 2.58;\n",
      "\t\tmz= 5.47 18.6 53.88;\n",
      "\t\tmA= -0.68 -0.2 0.69;\n",
      "\t\tmY= -1.98 -1.5 2.59;\n",
      "\t\timage_height:= 370 376;\n",
      "\t\timage_width: 1224 1242;\n",
      "\t}\n",
      "\t* Cars {\n",
      "\t\t# objects= 5968;\n",
      "\t\tmh= 1.25 1.51 2.21;\n",
      "\t\tmw= 1.2 1.64 2.04;\n",
      "\t\tml= 2.23 3.84 5.24;\n",
      "\t\tmx= -24.4 -1.005 23.2;\n",
      "\t\tmy= -0.01 1.69 3.23;\n",
      "\t\tmz= 6.48 18.314999999999998 41.21;\n",
      "\t\tmA= -0.68 -0.04 0.69;\n",
      "\t\tmY= -3.14 -1.51 3.14;\n",
      "\t\timage_height:= 370 376;\n",
      "\t\timage_width: 1224 1242;\n",
      "\t}\n",
      "\t* DontCares {\n",
      "\t\t# objects= 1205;\n",
      "\t\tmh= -1.0 -1.0 -1.0;\n",
      "\t\tmw= -1.0 -1.0 -1.0;\n",
      "\t\tml= -1.0 -1.0 -1.0;\n",
      "\t\tmx= -1000.0 -1000.0 -1000.0;\n",
      "\t\tmy= -1000.0 -1000.0 -1000.0;\n",
      "\t\tmz= -1000.0 -1000.0 -1000.0;\n",
      "\t\tmA= 0.79 0.79 0.79;\n",
      "\t\tmY= -10.0 -10.0 -10.0;\n",
      "\t\timage_height:= 370 376;\n",
      "\t\timage_width: 1224 1242;\n",
      "\t}\n",
      "\t* Vans {\n",
      "\t\t# objects= 377;\n",
      "\t\tmh= 1.73 2.07 2.91;\n",
      "\t\tmw= 1.63 1.89 2.46;\n",
      "\t\tml= 3.72 4.64 6.91;\n",
      "\t\tmx= -21.18 -0.83 24.64;\n",
      "\t\tmy= 0.28 1.64 3.23;\n",
      "\t\tmz= 6.47 21.69 54.17;\n",
      "\t\tmA= -0.64 -0.03 0.63;\n",
      "\t\tmY= -3.13 -1.5 3.02;\n",
      "\t\timage_height:= 370 376;\n",
      "\t\timage_width: 1224 1242;\n",
      "\t}\n",
      "\t* Cyclists {\n",
      "\t\t# objects= 653;\n",
      "\t\tmh= 1.41 1.76 2.09;\n",
      "\t\tmw= 0.34 0.59 0.93;\n",
      "\t\tml= 1.26 1.79 2.17;\n",
      "\t\tmx= -17.34 0.24 12.58;\n",
      "\t\tmy= 0.3 1.58 2.8;\n",
      "\t\tmz= 5.21 18.72 34.07;\n",
      "\t\tmA= -0.66 0.01 0.68;\n",
      "\t\tmY= -3.06 -0.1 3.13;\n",
      "\t\timage_height:= 370 376;\n",
      "\t\timage_width: 1224 1242;\n",
      "\t}\n",
      "\t* Trucks {\n",
      "\t\t# objects= 251;\n",
      "\t\tmh= 2.32 3.52 4.05;\n",
      "\t\tmw= 2.06 2.63 2.89;\n",
      "\t\tml= 5.42 10.81 16.79;\n",
      "\t\tmx= -19.61 0.05 18.76;\n",
      "\t\tmy= 0.68 1.76 2.65;\n",
      "\t\tmz= 8.24 40.02 63.49;\n",
      "\t\tmA= -0.58 0.0 0.62;\n",
      "\t\tmY= -1.66 -1.53 3.0;\n",
      "\t\timage_height:= 370 376;\n",
      "\t\timage_width: 1224 1242;\n",
      "\t}\n",
      "\t* Person_sittings {\n",
      "\t\t# objects= 39;\n",
      "\t\tmh= 1.06 1.34 1.64;\n",
      "\t\tmw= 0.48 0.51 0.75;\n",
      "\t\tml= 0.5 1.19 1.33;\n",
      "\t\tmx= -11.21 6.2 7.12;\n",
      "\t\tmy= 0.62 1.52 1.8;\n",
      "\t\tmz= 4.61 15.81 24.27;\n",
      "\t\tmA= -0.66 0.33 0.66;\n",
      "\t\tmY= -3.14 0.06 3.14;\n",
      "\t\timage_height:= 370 376;\n",
      "\t\timage_width: 1224 1242;\n",
      "\t}\n",
      "\t* Trams {\n",
      "\t\t# objects= 135;\n",
      "\t\tmh= 3.59 3.63 3.66;\n",
      "\t\tmw= 2.17 2.32 2.69;\n",
      "\t\tml= 10.04 14.73 35.24;\n",
      "\t\tmx= -23.0 7.04 10.69;\n",
      "\t\tmy= 1.25 1.61 2.94;\n",
      "\t\tmz= 15.66 46.78 81.64;\n",
      "\t\tmA= -0.45 0.17 0.4;\n",
      "\t\tmY= -1.6 1.6 1.69;\n",
      "\t\timage_height:= 370 376;\n",
      "\t\timage_width: 1224 1242;\n",
      "\t}\n",
      "\n"
     ]
    }
   ],
   "source": [
    "print(kitti) # summary of dataset"
   ]
  },
  {
   "cell_type": "code",
   "execution_count": null,
   "metadata": {},
   "outputs": [],
   "source": [
    "# visualisation/ transformations check\n",
    "idx = random.choice(range(kitti.num_files))\n",
    "\n",
    "# while not any([_['name'] =='Truck' for _ in kitti.get_label(idx)]):\n",
    "#   idx = random.choice(range(kitti.num_files))\n",
    "  \n",
    "print(idx)\n",
    "plt.imshow(kitti.get_image(idx))\n",
    "kitti.inspect_points(frame_idx=idx,downsample_voxel_size=0.05)"
   ]
  },
  {
   "cell_type": "code",
   "execution_count": null,
   "metadata": {},
   "outputs": [],
   "source": [
    "# creates and load json file conatining cropped boxes\n",
    "# kitti.save_cropped_boxes()\n",
    "cropped_labels,cropped_cam_points = kitti.load_cropped_boxes()"
   ]
  },
  {
   "cell_type": "code",
   "execution_count": null,
   "metadata": {},
   "outputs": [],
   "source": [
    "# visualizes isolated objects\n",
    "kitti.vis_cropped_boxes(cropped_labels,cropped_cam_points,object_class='Pedestrian')"
   ]
  },
  {
   "cell_type": "code",
   "execution_count": null,
   "metadata": {},
   "outputs": [],
   "source": [
    "kitti.vis_crop_aug_sampler()"
   ]
  },
  {
   "cell_type": "code",
   "execution_count": null,
   "metadata": {},
   "outputs": [],
   "source": [
    "calib = kitti.get_calib(0)"
   ]
  },
  {
   "cell_type": "code",
   "execution_count": null,
   "metadata": {},
   "outputs": [],
   "source": [
    "calib['cam_to_image']"
   ]
  }
 ],
 "metadata": {
  "kernelspec": {
   "display_name": "gnn.test",
   "language": "python",
   "name": "python3"
  },
  "language_info": {
   "codemirror_mode": {
    "name": "ipython",
    "version": 3
   },
   "file_extension": ".py",
   "mimetype": "text/x-python",
   "name": "python",
   "nbconvert_exporter": "python",
   "pygments_lexer": "ipython3",
   "version": "3.10.16"
  }
 },
 "nbformat": 4,
 "nbformat_minor": 2
}
