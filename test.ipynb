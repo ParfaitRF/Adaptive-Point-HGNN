{
 "cells": [
  {
   "cell_type": "code",
   "execution_count": 1,
   "metadata": {},
   "outputs": [
    {
     "name": "stdout",
     "output_type": "stream",
     "text": [
      "Jupyter environment detected. Enabling Open3D WebVisualizer.\n",
      "[Open3D INFO] WebRTC GUI backend enabled.\n",
      "[Open3D INFO] WebRTCWindowSystem: HTTP handshake server disabled.\n"
     ]
    }
   ],
   "source": [
    "import os\n",
    "import plotly.express as plt\n",
    "import plotly.graph_objects as go\n",
    "\n",
    "\n",
    "# curr_dir = os.getcwd()\n",
    "# wd = os.path.join(curr_dir,'BHT - Apllied Mathematics\\THESIS\\code\\Hyperbolic-Point-GNN\\Workbench')\n",
    "# os.chdir(wd)\n",
    "\n",
    "from Workbench.dataset.kitti_dataset import KittiDataset\n",
    "from Workbench.models.graph_gen import * \n",
    "\n",
    "curr_dir = os.getcwd()\n",
    "image_dir = os.path.join(curr_dir,'Workbench\\\\dataset\\\\kitti\\\\image')\n",
    "point_dir = os.path.join(curr_dir,'Workbench\\\\dataset\\\\kitti\\\\velodyne')\n",
    "calib_dir = os.path.join(curr_dir,'Workbench\\\\dataset\\\\kitti\\\\calib')\n",
    "label_dir = os.path.join(curr_dir,'Workbench\\\\dataset\\\\kitti\\\\labels')"
   ]
  },
  {
   "cell_type": "code",
   "execution_count": 2,
   "metadata": {},
   "outputs": [],
   "source": [
    "is_training = True\n",
    "kd = KittiDataset(image_dir,point_dir,calib_dir,label_dir,is_training=is_training)\n",
    "#print(kd)"
   ]
  },
  {
   "cell_type": "markdown",
   "metadata": {},
   "source": [
    "# <center> Test: Dataset Class</center>"
   ]
  },
  {
   "cell_type": "code",
   "execution_count": 3,
   "metadata": {},
   "outputs": [],
   "source": [
    "idx     = 0\n",
    "radius  = 1\n",
    "p       = kd.get_cam_points(idx,radius)\n",
    "c       = kd.get_calib(idx)\n",
    "p_img   = kd.get_image(idx).reshape(-1,3)\n",
    "\n",
    "#plt.scatter_3d(x=p_img[:,0],y=p_img[:,1],z=p_img[:,2])"
   ]
  },
  {
   "cell_type": "markdown",
   "metadata": {},
   "source": [
    "# <center> Test: Graph generation</center>"
   ]
  },
  {
   "cell_type": "code",
   "execution_count": 4,
   "metadata": {},
   "outputs": [],
   "source": [
    "res1 = multi_layer_downsampling(p.xyz,radius,[1])"
   ]
  },
  {
   "cell_type": "code",
   "execution_count": 9,
   "metadata": {},
   "outputs": [
    {
     "data": {
      "text/plain": [
       "(1595, 3)"
      ]
     },
     "execution_count": 9,
     "metadata": {},
     "output_type": "execute_result"
    }
   ],
   "source": [
    "np.asarray(res1[1]).shape"
   ]
  },
  {
   "cell_type": "code",
   "execution_count": 5,
   "metadata": {},
   "outputs": [],
   "source": [
    "res2 = multi_layer_downsampling_select(p.xyz,radius,[1,2])"
   ]
  },
  {
   "cell_type": "code",
   "execution_count": null,
   "metadata": {},
   "outputs": [
    {
     "ename": "IndexError",
     "evalue": "list index out of range",
     "output_type": "error",
     "traceback": [
      "\u001b[1;31m---------------------------------------------------------------------------\u001b[0m",
      "\u001b[1;31mIndexError\u001b[0m                                Traceback (most recent call last)",
      "Cell \u001b[1;32mIn[12], line 1\u001b[0m\n\u001b[1;32m----> 1\u001b[0m \u001b[43mres2\u001b[49m\u001b[43m[\u001b[49m\u001b[38;5;241;43m0\u001b[39;49m\u001b[43m]\u001b[49m\u001b[43m[\u001b[49m\u001b[38;5;241;43m3\u001b[39;49m\u001b[43m]\u001b[49m\u001b[38;5;241m.\u001b[39mshape\n",
      "\u001b[1;31mIndexError\u001b[0m: list index out of range"
     ]
    }
   ],
   "source": []
  }
 ],
 "metadata": {
  "kernelspec": {
   "display_name": "gnn.test",
   "language": "python",
   "name": "python3"
  },
  "language_info": {
   "codemirror_mode": {
    "name": "ipython",
    "version": 3
   },
   "file_extension": ".py",
   "mimetype": "text/x-python",
   "name": "python",
   "nbconvert_exporter": "python",
   "pygments_lexer": "ipython3",
   "version": "3.10.16"
  }
 },
 "nbformat": 4,
 "nbformat_minor": 2
}
