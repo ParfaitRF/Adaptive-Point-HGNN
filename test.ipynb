{
 "cells": [
  {
   "cell_type": "code",
   "execution_count": null,
   "metadata": {},
   "outputs": [],
   "source": [
    "# function list collector\n",
    "\n",
    "# def document_class(cls):\n",
    "#   print(f\"Class: {cls.__name__}\")\n",
    "\n",
    "#   for name, func in inspect.getmembers(cls, inspect.isfunction):\n",
    "#     print(f\"- {name}()\")\n",
    "\n",
    "# # Example\n",
    "# document_class(KittiDataset)\n"
   ]
  },
  {
   "cell_type": "code",
   "execution_count": null,
   "metadata": {},
   "outputs": [],
   "source": [
    "import os\n",
    "import random\n",
    "import inspect\n",
    "\n",
    "from data.kitti_dataset import KittiDataset\n",
    "from crop_aug import save_cropped_boxes,load_cropped_boxes,vis_cropped_boxes"
   ]
  },
  {
   "cell_type": "code",
   "execution_count": null,
   "metadata": {},
   "outputs": [],
   "source": [
    "# kitti dataset sanity test\n",
    "kitti = KittiDataset()"
   ]
  },
  {
   "cell_type": "code",
   "execution_count": null,
   "metadata": {},
   "outputs": [],
   "source": [
    "# dataset initialization and statistics retrieval\n",
    "print(kitti)\n",
    "\n",
    "# visualisation/ transformations check\n",
    "idx = random.choice(range(kitti.num_files))\n",
    "print(idx)\n",
    "kitti.inspect_points(frame_idx=idx,downsample_voxel_size=0.05)"
   ]
  },
  {
   "cell_type": "code",
   "execution_count": null,
   "metadata": {},
   "outputs": [],
   "source": [
    "#load_cropped_boxes('test.json')\n",
    "#save_cropped_boxes(kitti,'test.json')\n",
    "cropped_labels,cropped_cam_points = load_cropped_boxes('test.json')"
   ]
  },
  {
   "cell_type": "code",
   "execution_count": null,
   "metadata": {},
   "outputs": [],
   "source": [
    "vis_cropped_boxes(cropped_labels,cropped_cam_points,kitti,object_class='Cyclist')"
   ]
  }
 ],
 "metadata": {
  "kernelspec": {
   "display_name": "gnn.test",
   "language": "python",
   "name": "python3"
  },
  "language_info": {
   "codemirror_mode": {
    "name": "ipython",
    "version": 3
   },
   "file_extension": ".py",
   "mimetype": "text/x-python",
   "name": "python",
   "nbconvert_exporter": "python",
   "pygments_lexer": "ipython3",
   "version": "3.10.16"
  }
 },
 "nbformat": 4,
 "nbformat_minor": 2
}
