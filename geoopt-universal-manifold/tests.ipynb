{
 "cells": [
  {
   "cell_type": "code",
   "execution_count": 1,
   "id": "af88104e",
   "metadata": {
    "scrolled": true
   },
   "outputs": [
    {
     "name": "stdout",
     "output_type": "stream",
     "text": [
      "[stereographic]\n",
      "(möbius_sigmoid)\n",
      "\n"
     ]
    }
   ],
   "source": [
    "import os\n",
    "os.environ['PATH'] = r'H:\\Thesis\\gifsicle-1.95-win64;' + os.environ['PATH'] \n",
    "\n",
    "import random\n",
    "import torch\n",
    "from docs.plots import (\n",
    "  #poincare,\n",
    "  #product,\n",
    "  stereographic\n",
    ")\n",
    "import numpy as np\n",
    "from globals import COLORS\n",
    "\n",
    "device = torch.device(\"cuda\" if torch.cuda.is_available() else \"cpu\")\n",
    "\n",
    "def set_global_seed(seed: int):\n",
    "  random.seed(seed)\n",
    "  np.random.seed(seed)\n",
    "  torch.manual_seed(seed)\n",
    "\n",
    "  # If using CUDA\n",
    "  if torch.cuda.is_available():\n",
    "    torch.cuda.manual_seed(seed)\n",
    "    torch.cuda.manual_seed_all(seed)\n",
    "\n",
    "def random_pc_vector(dim):\n",
    "  while True:\n",
    "    x = (2 * torch.rand(dim)) - 1  # random in (-1, 1)\n",
    "    if torch.norm(x) < 1:\n",
    "      return x\n",
    "    \n",
    "set_global_seed(42)"
   ]
  },
  {
   "cell_type": "code",
   "execution_count": 2,
   "id": "df7c3f17",
   "metadata": {},
   "outputs": [
    {
     "name": "stderr",
     "output_type": "stream",
     "text": [
      "100%|██████████| 185/185 [00:55<00:00,  3.32it/s]\n"
     ]
    }
   ],
   "source": [
    "x   = random_pc_vector(2).to(torch.float64)\n",
    "y   = random_pc_vector(2).to(torch.float64)\n",
    "v1  = torch.rand(2).to(torch.float64)/5\n",
    "v2  = torch.rand(2).to(torch.float64)/5\n",
    "M   = torch.tensor([[-1, -1.5], [0.2, 0.5]]).to(torch.float64)\n",
    "\n",
    "# print(\n",
    "#   f\"\"\"\n",
    "#   x:  {x},\\\\\n",
    "#   y:  {y},\\\\\n",
    "#   v1: {v1},\\\\\n",
    "#   v2: {v2},\\\\\n",
    "#   M:  {M}\n",
    "#   \"\"\"\n",
    "# )\n",
    "\n",
    "# POINCARE\n",
    "#poincare.distance.show(x)\n",
    "#poincare.distance2plane.show(x,v1)\n",
    "#poincare.gyrovector_parallel_transport.show(x,y)\n",
    "#poincare.mobius_add.show(x,y,device)\n",
    "#poincare.mobius_matvec.show(M,x)\n",
    "#poincare.mobius_sigmoid.show(x)\n",
    "#poincare.parallel_transport.show(x,y,v1,v2)\n",
    "\n",
    "# PRODUCT GEOMETRY\n",
    "#screenshots = product.torus_embedding.show(device)\n",
    "\n",
    "# K-STEREOGRAPHIC MODEL\n",
    "#stereographic.distance.show(x)\n",
    "#stereographic.distance2plane.show(x,v1)\n",
    "# stereographic.geodesic_grid.show()\n",
    "#stereographic.gyrovector_parallel_transport.show(x,y,v1,v2)\n",
    "#stereographic.midpoint.show(x,y,5*v1,5*v2)\n",
    "#stereographic.mobius_add.show(x,y)\n",
    "#stereographic.mobius_matvec.show(M,x)\n",
    "stereographic.mobius_sigmoid.show(x)\n",
    "#poincare.parallel_transport.show(x,y,v1,v2,device)"
   ]
  },
  {
   "cell_type": "code",
   "execution_count": null,
   "id": "5005a016",
   "metadata": {},
   "outputs": [],
   "source": [
    "np.arange(0,5.5,0.5)"
   ]
  },
  {
   "cell_type": "code",
   "execution_count": null,
   "id": "f9fcc669",
   "metadata": {},
   "outputs": [],
   "source": [
    "import matplotlib.pyplot as plt\n",
    "\n",
    "# Assuming bht_points is already defined\n",
    "x_vals = [coord[0] for coord in bht_points.values()]\n",
    "y_vals = [coord[1] for coord in bht_points.values()]\n",
    "\n",
    "plt.figure(figsize=(8, 6))\n",
    "plt.scatter(x_vals, y_vals, c=COLORS.grey, s=10)\n",
    "\n",
    "\n",
    "plt.gca().set_aspect(\"equal\")  # for square geometry\n",
    "plt.gca().set_xticks([])\n",
    "plt.gca().set_yticks([])\n",
    "plt.grid(True)\n",
    "plt.title(\"BHT Points\")\n",
    "plt.tight_layout()\n",
    "plt.show()"
   ]
  },
  {
   "cell_type": "code",
   "execution_count": null,
   "id": "eff54ba6",
   "metadata": {},
   "outputs": [],
   "source": [
    "import pyopencl as cl\n",
    "\n",
    "platforms = cl.get_platforms()\n",
    "for platform in platforms:\n",
    "  print(f\"Platform: {platform.name}\")\n",
    "  for device in platform.get_devices():\n",
    "    print(f\"  Device: {device.name}\")\n",
    "    print(f\"    Type: {cl.device_type.to_string(device.type)}\")\n",
    "    print(f\"    Max compute units: {device.max_compute_units}\")\n",
    "    print(f\"    Global memory: {device.global_mem_size / (1024 ** 3):.2f} GB\")\n",
    "    print(f\"    Max clock freq: {device.max_clock_frequency} MHz\")\n",
    "    print(f\"    Max allocable memory: {device.max_mem_alloc_size / (1024 ** 3):.2f} GB\")\n"
   ]
  }
 ],
 "metadata": {
  "kernelspec": {
   "display_name": "gnn.test",
   "language": "python",
   "name": "python3"
  },
  "language_info": {
   "codemirror_mode": {
    "name": "ipython",
    "version": 3
   },
   "file_extension": ".py",
   "mimetype": "text/x-python",
   "name": "python",
   "nbconvert_exporter": "python",
   "pygments_lexer": "ipython3",
   "version": "3.10.16"
  }
 },
 "nbformat": 4,
 "nbformat_minor": 5
}
