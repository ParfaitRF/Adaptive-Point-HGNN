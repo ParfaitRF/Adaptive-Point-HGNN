{
 "cells": [
  {
   "cell_type": "code",
   "execution_count": 1,
   "id": "af88104e",
   "metadata": {},
   "outputs": [
    {
     "name": "stdout",
     "output_type": "stream",
     "text": [
      "[poincare]\n",
      "(distance)\n",
      "(distance2plane)\n",
      "(gyrovector_parallel_transport)\n",
      "(mobius_add)\n",
      "(Mobius Matvec)\n",
      "(mobius_sigmoid_apply)\n",
      "parallel_transport\n",
      "\n",
      "[product]\n",
      "(torus_embedding)\n",
      "\n",
      "[stereographic]\n",
      "(distance)\n",
      "(distance2plane)\n",
      "(euclidean_grid)\n",
      "(geodesic_grid)\n",
      "(midpoint)\n",
      "(mobius_add)\n",
      "(mobius_matvec)\n",
      "(orthogonal_sigmoid_apply)\n",
      "(orthogonal_projection)\n",
      "(orthogonal_projection_pub)\n",
      "parallel_transport\n",
      "\n"
     ]
    }
   ],
   "source": [
    "import random\n",
    "import torch\n",
    "from docs.plots import * \n",
    "import numpy as np\n",
    "from globals import COLORS\n",
    "\n",
    "gpu = False\n",
    "device = torch.device(\"cuda\" if torch.cuda.is_available() else \"cpu\")\n",
    "\n",
    "\n",
    "def set_global_seed(seed: int):\n",
    "  random.seed(seed)\n",
    "  np.random.seed(seed)\n",
    "  torch.manual_seed(seed)\n",
    "\n",
    "  # If using CUDA\n",
    "  if torch.cuda.is_available():\n",
    "    torch.cuda.manual_seed(seed)\n",
    "    torch.cuda.manual_seed_all(seed)\n",
    "\n",
    "def random_pc_vector(dim):\n",
    "  while True:\n",
    "    x = (2 * torch.rand(dim)) - 1  # random in (-1, 1)\n",
    "    if torch.norm(x) < 1:\n",
    "      return x\n",
    "    \n",
    "set_global_seed(42)"
   ]
  },
  {
   "cell_type": "code",
   "execution_count": 2,
   "id": "c16d2b5c-e4a1-42c9-914d-36c08a8e5ea4",
   "metadata": {},
   "outputs": [
    {
     "data": {
      "text/plain": [
       "device(type='cuda')"
      ]
     },
     "execution_count": 2,
     "metadata": {},
     "output_type": "execute_result"
    }
   ],
   "source": [
    "device"
   ]
  },
  {
   "cell_type": "code",
   "execution_count": null,
   "id": "abffc64f",
   "metadata": {},
   "outputs": [
    {
     "name": "stderr",
     "output_type": "stream",
     "text": [
      "H:\\Thesis\\Adaptive-Point-HGNN\\geoopt-universal-manifold\\geoopt\\optim\\radam.py:85: UserWarning: This overload of add_ is deprecated:\n",
      "\tadd_(Number alpha, Tensor other)\n",
      "Consider using one of the following signatures instead:\n",
      "\tadd_(Tensor other, *, Number alpha = 1) (Triggered internally at C:\\actions-runner\\_work\\pytorch\\pytorch\\pytorch\\torch\\csrc\\utils\\python_arg_parser.cpp:1661.)\n",
      "  grad.add_(weight_decay, point)\n",
      "  5%|███▉                                                                            | 99/2000 [01:55<42:28,  1.34s/it]"
     ]
    }
   ],
   "source": [
    "x   = random_pc_vector(2)\n",
    "y   = random_pc_vector(2)\n",
    "v1  = torch.rand(2)/5\n",
    "v2  = torch.rand(2)/5\n",
    "M   = torch.tensor([[-1, -1.5], [0.2, 0.5]])\n",
    "\n",
    "# POINCARE\n",
    "\n",
    "#poincare.distance.show(x,device)\n",
    "#poincare.distance2plane.show(x,v1,device)\n",
    "#poincare.gyrovector_parallel_transport.show(x,y,device)\n",
    "#poincare.mobius_add.show(x,y,device)\n",
    "#poincare.mobius_matvec.show(M,x,device)\n",
    "#poincare.mobius_sigmoid_apply.show(x,device)\n",
    "#poincare.parallel_transport.show(x,y,v1,v2,device)\n",
    "\n",
    "# PRODUCT GEOMETRY\n",
    "\n",
    "screenshots = product.torus_embedding.show(device)\n",
    "\n",
    "# K-STEREOGRAPHIC MODEL\n",
    "\n",
    "#stereographic.distance.show(x,device)"
   ]
  },
  {
   "cell_type": "code",
   "execution_count": null,
   "id": "df7c3f17",
   "metadata": {},
   "outputs": [],
   "source": [
    "import imageio\n",
    "imageio.mimsave(f'training.gif', screenshots, duration=1/24)\n",
    "\n",
    "\n"
   ]
  },
  {
   "cell_type": "code",
   "execution_count": null,
   "id": "f9fcc669",
   "metadata": {},
   "outputs": [],
   "source": [
    "import matplotlib.pyplot as plt\n",
    "\n",
    "# Assuming bht_points is already defined\n",
    "x_vals = [coord[0] for coord in bht_points.values()]\n",
    "y_vals = [coord[1] for coord in bht_points.values()]\n",
    "\n",
    "plt.figure(figsize=(8, 6))\n",
    "plt.scatter(x_vals, y_vals, c=COLORS.grey, s=10)\n",
    "\n",
    "\n",
    "plt.gca().set_aspect(\"equal\")  # for square geometry\n",
    "plt.gca().set_xticks([])\n",
    "plt.gca().set_yticks([])\n",
    "plt.grid(True)\n",
    "plt.title(\"BHT Points\")\n",
    "plt.tight_layout()\n",
    "plt.show()"
   ]
  },
  {
   "cell_type": "code",
   "execution_count": null,
   "id": "eff54ba6",
   "metadata": {},
   "outputs": [],
   "source": [
    "import pyopencl as cl\n",
    "\n",
    "platforms = cl.get_platforms()\n",
    "for platform in platforms:\n",
    "  print(f\"Platform: {platform.name}\")\n",
    "  for device in platform.get_devices():\n",
    "    print(f\"  Device: {device.name}\")\n",
    "    print(f\"    Type: {cl.device_type.to_string(device.type)}\")\n",
    "    print(f\"    Max compute units: {device.max_compute_units}\")\n",
    "    print(f\"    Global memory: {device.global_mem_size / (1024 ** 3):.2f} GB\")\n",
    "    print(f\"    Max clock freq: {device.max_clock_frequency} MHz\")\n",
    "    print(f\"    Max allocable memory: {device.max_mem_alloc_size / (1024 ** 3):.2f} GB\")\n"
   ]
  }
 ],
 "metadata": {
  "kernelspec": {
   "display_name": "Python 3 (ipykernel)",
   "language": "python",
   "name": "python3"
  },
  "language_info": {
   "codemirror_mode": {
    "name": "ipython",
    "version": 3
   },
   "file_extension": ".py",
   "mimetype": "text/x-python",
   "name": "python",
   "nbconvert_exporter": "python",
   "pygments_lexer": "ipython3",
   "version": "3.10.16"
  }
 },
 "nbformat": 4,
 "nbformat_minor": 5
}
